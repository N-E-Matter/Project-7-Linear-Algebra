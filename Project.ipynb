{
 "cells": [
  {
   "cell_type": "markdown",
   "metadata": {
    "toc": true
   },
   "source": [
    "<h1>Содержание<span class=\"tocSkip\"></span></h1>\n",
    "<div class=\"toc\"><ul class=\"toc-item\"><li><span><a href=\"#Загрузка-и-предобработка-данных:\" data-toc-modified-id=\"Загрузка-и-предобработка-данных:-1\"><span class=\"toc-item-num\">1&nbsp;&nbsp;</span>Загрузка и предобработка данных:</a></span></li><li><span><a href=\"#Умножение-матриц\" data-toc-modified-id=\"Умножение-матриц-2\"><span class=\"toc-item-num\">2&nbsp;&nbsp;</span>Умножение матриц</a></span></li><li><span><a href=\"#Алгоритм-преобразования\" data-toc-modified-id=\"Алгоритм-преобразования-3\"><span class=\"toc-item-num\">3&nbsp;&nbsp;</span>Алгоритм преобразования</a></span></li><li><span><a href=\"#Проверка-алгоритма\" data-toc-modified-id=\"Проверка-алгоритма-4\"><span class=\"toc-item-num\">4&nbsp;&nbsp;</span>Проверка алгоритма</a></span></li><li><span><a href=\"#Вывод:\" data-toc-modified-id=\"Вывод:-5\"><span class=\"toc-item-num\">5&nbsp;&nbsp;</span>Вывод:</a></span></li><li><span><a href=\"#Чек-лист-проверки\" data-toc-modified-id=\"Чек-лист-проверки-6\"><span class=\"toc-item-num\">6&nbsp;&nbsp;</span>Чек-лист проверки</a></span></li></ul></div>"
   ]
  },
  {
   "cell_type": "markdown",
   "metadata": {},
   "source": [
    "# Защита персональных данных клиентов"
   ]
  },
  {
   "cell_type": "markdown",
   "metadata": {},
   "source": [
    "Вам нужно защитить данные клиентов страховой компании «Хоть потоп». Разработайте такой метод преобразования данных, чтобы по ним было сложно восстановить персональную информацию. Обоснуйте корректность его работы.\n",
    "\n",
    "Нужно защитить данные, чтобы при преобразовании качество моделей машинного обучения не ухудшилось. Подбирать наилучшую модель не требуется."
   ]
  },
  {
   "cell_type": "markdown",
   "metadata": {},
   "source": [
    "## Загрузка и предобработка данных:"
   ]
  },
  {
   "cell_type": "code",
   "execution_count": 1,
   "metadata": {},
   "outputs": [],
   "source": [
    "import numpy as np\n",
    "import pandas as pd\n",
    "import matplotlib.pyplot as plt\n",
    "from sklearn.metrics import r2_score\n",
    "from sklearn.linear_model import LinearRegression\n",
    "from sklearn.model_selection import train_test_split\n",
    "import warnings\n",
    "warnings.filterwarnings(\"ignore\")"
   ]
  },
  {
   "cell_type": "code",
   "execution_count": 2,
   "metadata": {},
   "outputs": [],
   "source": [
    "data = pd.read_csv('/datasets/insurance.csv')"
   ]
  },
  {
   "cell_type": "code",
   "execution_count": 3,
   "metadata": {
    "scrolled": false
   },
   "outputs": [
    {
     "data": {
      "text/plain": [
       "'Общий вид датафрейма:'"
      ]
     },
     "metadata": {},
     "output_type": "display_data"
    },
    {
     "data": {
      "text/html": [
       "<div>\n",
       "<style scoped>\n",
       "    .dataframe tbody tr th:only-of-type {\n",
       "        vertical-align: middle;\n",
       "    }\n",
       "\n",
       "    .dataframe tbody tr th {\n",
       "        vertical-align: top;\n",
       "    }\n",
       "\n",
       "    .dataframe thead th {\n",
       "        text-align: right;\n",
       "    }\n",
       "</style>\n",
       "<table border=\"1\" class=\"dataframe\">\n",
       "  <thead>\n",
       "    <tr style=\"text-align: right;\">\n",
       "      <th></th>\n",
       "      <th>Пол</th>\n",
       "      <th>Возраст</th>\n",
       "      <th>Зарплата</th>\n",
       "      <th>Члены семьи</th>\n",
       "      <th>Страховые выплаты</th>\n",
       "    </tr>\n",
       "  </thead>\n",
       "  <tbody>\n",
       "    <tr>\n",
       "      <th>0</th>\n",
       "      <td>1</td>\n",
       "      <td>41.0</td>\n",
       "      <td>49600.0</td>\n",
       "      <td>1</td>\n",
       "      <td>0</td>\n",
       "    </tr>\n",
       "    <tr>\n",
       "      <th>1</th>\n",
       "      <td>0</td>\n",
       "      <td>46.0</td>\n",
       "      <td>38000.0</td>\n",
       "      <td>1</td>\n",
       "      <td>1</td>\n",
       "    </tr>\n",
       "    <tr>\n",
       "      <th>2</th>\n",
       "      <td>0</td>\n",
       "      <td>29.0</td>\n",
       "      <td>21000.0</td>\n",
       "      <td>0</td>\n",
       "      <td>0</td>\n",
       "    </tr>\n",
       "    <tr>\n",
       "      <th>3</th>\n",
       "      <td>0</td>\n",
       "      <td>21.0</td>\n",
       "      <td>41700.0</td>\n",
       "      <td>2</td>\n",
       "      <td>0</td>\n",
       "    </tr>\n",
       "    <tr>\n",
       "      <th>4</th>\n",
       "      <td>1</td>\n",
       "      <td>28.0</td>\n",
       "      <td>26100.0</td>\n",
       "      <td>0</td>\n",
       "      <td>0</td>\n",
       "    </tr>\n",
       "  </tbody>\n",
       "</table>\n",
       "</div>"
      ],
      "text/plain": [
       "   Пол  Возраст  Зарплата  Члены семьи  Страховые выплаты\n",
       "0    1     41.0   49600.0            1                  0\n",
       "1    0     46.0   38000.0            1                  1\n",
       "2    0     29.0   21000.0            0                  0\n",
       "3    0     21.0   41700.0            2                  0\n",
       "4    1     28.0   26100.0            0                  0"
      ]
     },
     "metadata": {},
     "output_type": "display_data"
    },
    {
     "name": "stdout",
     "output_type": "stream",
     "text": [
      "\n",
      "<class 'pandas.core.frame.DataFrame'>\n",
      "RangeIndex: 5000 entries, 0 to 4999\n",
      "Data columns (total 5 columns):\n",
      " #   Column             Non-Null Count  Dtype  \n",
      "---  ------             --------------  -----  \n",
      " 0   Пол                5000 non-null   int64  \n",
      " 1   Возраст            5000 non-null   float64\n",
      " 2   Зарплата           5000 non-null   float64\n",
      " 3   Члены семьи        5000 non-null   int64  \n",
      " 4   Страховые выплаты  5000 non-null   int64  \n",
      "dtypes: float64(2), int64(3)\n",
      "memory usage: 195.4 KB\n",
      "None\n",
      "\n"
     ]
    },
    {
     "data": {
      "text/html": [
       "<div>\n",
       "<style scoped>\n",
       "    .dataframe tbody tr th:only-of-type {\n",
       "        vertical-align: middle;\n",
       "    }\n",
       "\n",
       "    .dataframe tbody tr th {\n",
       "        vertical-align: top;\n",
       "    }\n",
       "\n",
       "    .dataframe thead th {\n",
       "        text-align: right;\n",
       "    }\n",
       "</style>\n",
       "<table border=\"1\" class=\"dataframe\">\n",
       "  <thead>\n",
       "    <tr style=\"text-align: right;\">\n",
       "      <th></th>\n",
       "      <th>Пол</th>\n",
       "      <th>Возраст</th>\n",
       "      <th>Зарплата</th>\n",
       "      <th>Члены семьи</th>\n",
       "      <th>Страховые выплаты</th>\n",
       "    </tr>\n",
       "  </thead>\n",
       "  <tbody>\n",
       "    <tr>\n",
       "      <th>count</th>\n",
       "      <td>5000.000000</td>\n",
       "      <td>5000.000000</td>\n",
       "      <td>5000.000000</td>\n",
       "      <td>5000.000000</td>\n",
       "      <td>5000.000000</td>\n",
       "    </tr>\n",
       "    <tr>\n",
       "      <th>mean</th>\n",
       "      <td>0.499000</td>\n",
       "      <td>30.952800</td>\n",
       "      <td>39916.360000</td>\n",
       "      <td>1.194200</td>\n",
       "      <td>0.148000</td>\n",
       "    </tr>\n",
       "    <tr>\n",
       "      <th>std</th>\n",
       "      <td>0.500049</td>\n",
       "      <td>8.440807</td>\n",
       "      <td>9900.083569</td>\n",
       "      <td>1.091387</td>\n",
       "      <td>0.463183</td>\n",
       "    </tr>\n",
       "    <tr>\n",
       "      <th>min</th>\n",
       "      <td>0.000000</td>\n",
       "      <td>18.000000</td>\n",
       "      <td>5300.000000</td>\n",
       "      <td>0.000000</td>\n",
       "      <td>0.000000</td>\n",
       "    </tr>\n",
       "    <tr>\n",
       "      <th>25%</th>\n",
       "      <td>0.000000</td>\n",
       "      <td>24.000000</td>\n",
       "      <td>33300.000000</td>\n",
       "      <td>0.000000</td>\n",
       "      <td>0.000000</td>\n",
       "    </tr>\n",
       "    <tr>\n",
       "      <th>50%</th>\n",
       "      <td>0.000000</td>\n",
       "      <td>30.000000</td>\n",
       "      <td>40200.000000</td>\n",
       "      <td>1.000000</td>\n",
       "      <td>0.000000</td>\n",
       "    </tr>\n",
       "    <tr>\n",
       "      <th>75%</th>\n",
       "      <td>1.000000</td>\n",
       "      <td>37.000000</td>\n",
       "      <td>46600.000000</td>\n",
       "      <td>2.000000</td>\n",
       "      <td>0.000000</td>\n",
       "    </tr>\n",
       "    <tr>\n",
       "      <th>max</th>\n",
       "      <td>1.000000</td>\n",
       "      <td>65.000000</td>\n",
       "      <td>79000.000000</td>\n",
       "      <td>6.000000</td>\n",
       "      <td>5.000000</td>\n",
       "    </tr>\n",
       "  </tbody>\n",
       "</table>\n",
       "</div>"
      ],
      "text/plain": [
       "               Пол      Возраст      Зарплата  Члены семьи  Страховые выплаты\n",
       "count  5000.000000  5000.000000   5000.000000  5000.000000        5000.000000\n",
       "mean      0.499000    30.952800  39916.360000     1.194200           0.148000\n",
       "std       0.500049     8.440807   9900.083569     1.091387           0.463183\n",
       "min       0.000000    18.000000   5300.000000     0.000000           0.000000\n",
       "25%       0.000000    24.000000  33300.000000     0.000000           0.000000\n",
       "50%       0.000000    30.000000  40200.000000     1.000000           0.000000\n",
       "75%       1.000000    37.000000  46600.000000     2.000000           0.000000\n",
       "max       1.000000    65.000000  79000.000000     6.000000           5.000000"
      ]
     },
     "metadata": {},
     "output_type": "display_data"
    },
    {
     "name": "stdout",
     "output_type": "stream",
     "text": [
      "\n"
     ]
    },
    {
     "data": {
      "text/plain": [
       "'Кол-во строк, столбцов датафрейма:'"
      ]
     },
     "metadata": {},
     "output_type": "display_data"
    },
    {
     "data": {
      "text/plain": [
       "(5000, 5)"
      ]
     },
     "metadata": {},
     "output_type": "display_data"
    },
    {
     "name": "stdout",
     "output_type": "stream",
     "text": [
      "\n"
     ]
    },
    {
     "data": {
      "text/plain": [
       "'Кол-во явных дубликатов:'"
      ]
     },
     "metadata": {},
     "output_type": "display_data"
    },
    {
     "data": {
      "text/plain": [
       "153"
      ]
     },
     "metadata": {},
     "output_type": "display_data"
    },
    {
     "name": "stdout",
     "output_type": "stream",
     "text": [
      "\n"
     ]
    },
    {
     "data": {
      "text/plain": [
       "'Кол-во пропусков в данных:'"
      ]
     },
     "metadata": {},
     "output_type": "display_data"
    },
    {
     "data": {
      "text/plain": [
       "Пол                  0\n",
       "Возраст              0\n",
       "Зарплата             0\n",
       "Члены семьи          0\n",
       "Страховые выплаты    0\n",
       "dtype: int64"
      ]
     },
     "metadata": {},
     "output_type": "display_data"
    }
   ],
   "source": [
    "display('Общий вид датафрейма:', data.head(5))\n",
    "print()\n",
    "print(data.info())\n",
    "print()\n",
    "display(data.describe())\n",
    "print()\n",
    "display('Кол-во строк, столбцов датафрейма:', data.shape)\n",
    "print()\n",
    "display('Кол-во явных дубликатов:', data.duplicated().sum())\n",
    "print()\n",
    "display('Кол-во пропусков в данных:', data.isna().sum())"
   ]
  },
  {
   "cell_type": "markdown",
   "metadata": {},
   "source": [
    "**Пропуски данных в датафрейме отсутствуют.**"
   ]
  },
  {
   "cell_type": "markdown",
   "metadata": {},
   "source": [
    "**Выявлено 153 явных дубликата** - совпадают столбцы \"пол\", \"возраст\", \"зарплата\", \"члены семьи\", \"страховые выплаты\".  \n",
    "В текущих условиях (при имеющемся объеме данных) невозможно сделать однодзначный вывод о том, являются ли указанные значения дубликатами, т.к. **возможно совпадение одинаковых условий для разных клиентов.**"
   ]
  },
  {
   "cell_type": "code",
   "execution_count": 4,
   "metadata": {
    "scrolled": true
   },
   "outputs": [
    {
     "name": "stdout",
     "output_type": "stream",
     "text": [
      "      Пол  Возраст  Зарплата  Члены семьи  Страховые выплаты\n",
      "2988    1     32.0   21600.0            0                  0\n",
      "2869    0     50.0   24700.0            1                  2\n",
      "4230    0     32.0   25600.0            1                  0\n",
      "2723    0     36.0   26400.0            0                  0\n",
      "1140    1     34.0   26900.0            0                  0\n",
      "...   ...      ...       ...          ...                ...\n",
      "3150    0     23.0   53600.0            1                  0\n",
      "1281    1     24.0   53900.0            2                  0\n",
      "2465    0     40.0   54000.0            2                  0\n",
      "2231    0     33.0   59300.0            2                  0\n",
      "1742    1     28.0   59900.0            0                  0\n",
      "\n",
      "[153 rows x 5 columns]\n"
     ]
    }
   ],
   "source": [
    "print(data[data.duplicated()].sort_values(by='Зарплата'))"
   ]
  },
  {
   "cell_type": "markdown",
   "metadata": {},
   "source": [
    "**В столбцах \"Зарплата\" и \"Возраст\" все значения после точки (копейки) имеют \"нулевой\" показатель, в связи с чем, целесообразно перевести значения в формат \"Int\" (целочисленные):**"
   ]
  },
  {
   "cell_type": "code",
   "execution_count": 5,
   "metadata": {
    "scrolled": true
   },
   "outputs": [
    {
     "name": "stdout",
     "output_type": "stream",
     "text": [
      "<class 'pandas.core.frame.DataFrame'>\n",
      "RangeIndex: 5000 entries, 0 to 4999\n",
      "Data columns (total 5 columns):\n",
      " #   Column             Non-Null Count  Dtype\n",
      "---  ------             --------------  -----\n",
      " 0   Пол                5000 non-null   int64\n",
      " 1   Возраст            5000 non-null   int64\n",
      " 2   Зарплата           5000 non-null   int64\n",
      " 3   Члены семьи        5000 non-null   int64\n",
      " 4   Страховые выплаты  5000 non-null   int64\n",
      "dtypes: int64(5)\n",
      "memory usage: 195.4 KB\n",
      "None\n"
     ]
    }
   ],
   "source": [
    "#print(data['Зарплата'].unique())\n",
    "#print(data['Возраст'].unique())\n",
    "data[['Зарплата', 'Возраст']] = data[['Зарплата', 'Возраст']].astype('int')\n",
    "print(data.info())"
   ]
  },
  {
   "cell_type": "markdown",
   "metadata": {},
   "source": [
    "**Рассмотрим распределение данных по столбцам:**"
   ]
  },
  {
   "cell_type": "code",
   "execution_count": 6,
   "metadata": {
    "scrolled": false
   },
   "outputs": [
    {
     "data": {
      "text/plain": [
       "0    2505\n",
       "1    2495\n",
       "Name: Пол, dtype: int64"
      ]
     },
     "execution_count": 6,
     "metadata": {},
     "output_type": "execute_result"
    },
    {
     "data": {
      "image/png": "[encoded data removed]",
      "text/plain": [
       "<Figure size 864x432 with 1 Axes>"
      ]
     },
     "metadata": {
      "needs_background": "light"
     },
     "output_type": "display_data"
    }
   ],
   "source": [
    "data['Пол'].hist(bins=3, figsize=(12,6));\n",
    "data['Пол'].value_counts()"
   ]
  },
  {
   "cell_type": "code",
   "execution_count": 7,
   "metadata": {
    "scrolled": false
   },
   "outputs": [
    {
     "data": {
      "image/png": "[encoded data removed]",
      "text/plain": [
       "<Figure size 864x432 with 1 Axes>"
      ]
     },
     "metadata": {
      "needs_background": "light"
     },
     "output_type": "display_data"
    }
   ],
   "source": [
    "data['Возраст'].hist(bins=100, figsize=(12,6));"
   ]
  },
  {
   "cell_type": "code",
   "execution_count": 8,
   "metadata": {},
   "outputs": [
    {
     "data": {
      "image/png": "[encoded data removed]",
      "text/plain": [
       "<Figure size 864x432 with 1 Axes>"
      ]
     },
     "metadata": {
      "needs_background": "light"
     },
     "output_type": "display_data"
    }
   ],
   "source": [
    "data['Зарплата'].hist(bins=10, figsize=(12,6));"
   ]
  },
  {
   "cell_type": "code",
   "execution_count": 9,
   "metadata": {},
   "outputs": [
    {
     "data": {
      "image/png": "[encoded data removed]",
      "text/plain": [
       "<Figure size 864x432 with 1 Axes>"
      ]
     },
     "metadata": {
      "needs_background": "light"
     },
     "output_type": "display_data"
    }
   ],
   "source": [
    "data['Члены семьи'].hist(bins=7, figsize=(12,6));"
   ]
  },
  {
   "cell_type": "code",
   "execution_count": 10,
   "metadata": {},
   "outputs": [
    {
     "data": {
      "image/png": "[encoded data removed]",
      "text/plain": [
       "<Figure size 864x432 with 1 Axes>"
      ]
     },
     "metadata": {
      "needs_background": "light"
     },
     "output_type": "display_data"
    }
   ],
   "source": [
    "data['Страховые выплаты'].hist(bins=5, figsize=(12,6));"
   ]
  },
  {
   "cell_type": "markdown",
   "metadata": {},
   "source": [
    "**Первичным анализом установлено:**  \n",
    "- пропуски в данных отсутствуют;\n",
    "- выявлены дубликаты данных (3% от общего количества данных), удаление нецелесообразно;\n",
    "- данные распределены нормально, выбросы (аномалии) отсутствуют;\n",
    "- клиентов одного пола на 10 чел. больше, чем другого;\n",
    "- основной возраст клиентов от 18 до 37 лет (средний, медианный возраст 30 лет);\n",
    "- средняя и медианная зарплата клиентов 40 тыс.руб.;\n",
    "- среднее и медианное кол-во членов семьи - 1 чел.;\n",
    "- среднее и медианное кол-во страховых выплат - 0."
   ]
  },
  {
   "cell_type": "markdown",
   "metadata": {},
   "source": [
    "## Умножение матриц"
   ]
  },
  {
   "cell_type": "markdown",
   "metadata": {},
   "source": [
    "Обозначения:\n",
    "\n",
    "- $X$ — матрица признаков (нулевой столбец состоит из единиц)\n",
    "\n",
    "- $y$ — вектор целевого признака\n",
    "\n",
    "- $P$ — матрица, на которую умножаются признаки\n",
    "\n",
    "- $w$ — вектор весов линейной регрессии (нулевой элемент равен сдвигу)"
   ]
  },
  {
   "cell_type": "markdown",
   "metadata": {},
   "source": [
    "# Предсказания:\n",
    "\n",
    "$$\n",
    "a = Xw\n",
    "$$\n",
    "\n",
    "Задача обучения:\n",
    "\n",
    "$$\n",
    "w = \\arg\\min_w MSE(Xw, y)\n",
    "$$\n",
    "\n",
    "Формула обучения:\n",
    "\n",
    "$$\n",
    "w = (X^T X)^{-1} X^T y\n",
    "$$\n",
    "\n",
    "Новая матрица признаков \"X1\" - произведение старой матрицы \"X\" на обратимую матрицу \"P\":\n",
    "\n",
    "$$\n",
    "X1 = X * P\n",
    "$$\n",
    "\n",
    "Формула \"w1\" при новом значении \"X1\":\n",
    "\n",
    "$$\n",
    "w1 = ((XP)^T * XP)^{-1} * XP^T * y\n",
    "$$\n",
    "\n",
    "Раскрытие первого произведения (XP)^T:\n",
    "\n",
    "$$\n",
    "w1 = (X^T * P^T * XP)^{-1} * P^T * X^T * y \n",
    "$$\n",
    "\n",
    "Перегруппировка множителей в скобках:\n",
    "\n",
    "$$\n",
    "w1 = (P^T * (X^T * X) * P)^{-1} * P^T * X^T * y\n",
    "$$\n",
    "\n",
    "Раскрытие скобок:\n",
    "\n",
    "$$\n",
    "w1 = P^{-1} * (X^T * X)^{-1} * (P^T)^{-1} * P^T * X^T * y\n",
    "$$\n",
    "\n",
    "Так как **P** - обратимая матрица, то произведение **(P^T)^{-1} * P^T** равно **E** (единичная матрица):\n",
    "\n",
    "$$\n",
    "w1 = P^{-1} * (X^T * X)^{-1} * EX^T * y = P^{-1} * (X^T * X)^{-1} * X^T * y \n",
    "$$\n",
    "\n",
    "В правой части уравнения образовалась формула для **w**:\n",
    "\n",
    "$$\n",
    "w1 = P^{-1} * (X^T * X)^{-1} * X^T * y = P^{-1} * w\n",
    "$$\n",
    "\n",
    "Подставим новое значение весов **w1** в формулу для предсказаний линейной регрессии. Предсказания модели расчитываются по формуле:\n",
    "\n",
    "$$\n",
    "a = X * w\n",
    "$$\n",
    "\n",
    "Подставим в эту формулу значения **X1** и **w1** для того, чтобы на их основе вычислить предсказания модели **a1**:\n",
    "\n",
    "$$\n",
    "a1 = X1 * w1 = X * P * P^{-1} * w\n",
    "$$\n",
    "\n",
    "Так как **P** по условию обратимая, то произведение **P * P^{-1}** снова равно **E**:\n",
    "\n",
    "$$\n",
    "a1 = X * P * P^{-1} * w = X * E * w = X * w = a\n",
    "$$\n",
    "\n",
    "Вычисления подтверждают, что предсказания **a1** для матрицы признаков, умноженных на обратимую матрицу **P** равны предсказаниям **a**.  \n",
    "Следовательно, качество линейной регрессии при умножении признаков на обратимую матрицу не изменится. В данном случае, параметры линейной регрессии в исходной задаче **w** и в преобразованной **w1** связаны следующим образом:\n",
    "\n",
    "$$\n",
    "w1 = P^{-1} * w\n",
    "$$"
   ]
  },
  {
   "cell_type": "markdown",
   "metadata": {},
   "source": [
    "## Алгоритм преобразования:"
   ]
  },
  {
   "cell_type": "markdown",
   "metadata": {},
   "source": [
    "**Алгоритм:**\n",
    "\n",
    "Для защиты пользовательской информации на этапе поиска коэффициентов предсказаний регрессии будем умножать матрицу признаков на обратимую матрицу Y - \"random_matrix\", которая будет генерироваться случайным образом.\n",
    "\n",
    "Этапы алгоритма:\n",
    "- Создание матрицы Y - \"random_matrix\"\n",
    "- Проверка матрицы Y - \"random_matrix\" на обратимость\n",
    "- Изменение исходных данных следующим случайно выбранным образом:\n",
    "    - *умножение матрицы на 1000*\n",
    "    - *вычитание из матрицы 200*\n",
    "    - *умножение матрицы на 5*\n",
    "    - *умножение на случайную обратимую матрицу*\n",
    "- Получение матрицы преобразованных признаков: Z = X * Y, где: Z - \"encoded_matrix\", X - \"features\", Y - \"random_matrix\"\n",
    "- Применение алгоритма на преобразованных признаках"
   ]
  },
  {
   "cell_type": "markdown",
   "metadata": {},
   "source": [
    "**Обоснование:** Если умножить исходную матрицу в линейной регрессии на случайную обратимую матрицу, то результаты линейной регрессии не изменятся. Это связано с тем, что умножение матрицы на обратимую матрицу не изменяет ее ранг и свойства, которые необходимы для построения модели линейной регрессии.\n",
    "  \n",
    "Для линейной регрессии мы имеем матричную формулу:  \n",
    "y = X * beta + epsilon  \n",
    "где:  \n",
    "y - вектор-столбец откликов,  \n",
    "X - матрица признаков,  \n",
    "beta - вектор-столбец коэффициентов модели,  \n",
    "epsilon - вектор-столбец ошибок.\n",
    "\n",
    "Если мы умножим матрицу X на обратимую матрицу A, то у нас получится новая матрица X':  \n",
    "X' = X * A  \n",
    "  \n",
    "Тогда исходная формула линейной регрессии примет вид:  \n",
    "y = X * beta + epsilon = X' * (A^-1 * beta) + epsilon  \n",
    "где (A^-1 * beta) является новым вектором коэффициентов модели.  \n",
    "Таким образом, умножение матрицы на обратимую матрицу не меняет свойства исходной модели, и результаты линейной регрессии останутся неизменными.  \n",
    "  \n",
    "Данный метод позволяет закодировать персональные данные пользователей. Этот метод позволяет использовать данные в дальнейшем без риска потери качества модели машинного обучения, также утечки персональных данных.\n",
    "\n",
    "Для восстановления исходных данных, используется обратная матрица: закодированная матрица умножается на обратную матрицу."
   ]
  },
  {
   "cell_type": "markdown",
   "metadata": {},
   "source": [
    "**Разбивка выборки на обучающую и тестовую:**"
   ]
  },
  {
   "cell_type": "code",
   "execution_count": 11,
   "metadata": {
    "scrolled": true
   },
   "outputs": [
    {
     "name": "stdout",
     "output_type": "stream",
     "text": [
      "Размер выборки \"features\": (3750, 4)\n",
      "\n",
      "Размер выборки \"target\": (3750,)\n",
      "\n",
      "Размер выборки \"features_test\": (1250, 4)\n",
      "\n",
      "Размер выборки \"target_test\": (1250,)\n"
     ]
    }
   ],
   "source": [
    "data_train, data_test = train_test_split(data, test_size=0.25, random_state=12345)\n",
    "features = data_train.drop(['Страховые выплаты'], axis=1)\n",
    "target = data_train['Страховые выплаты']\n",
    "features_test = data_test.drop(['Страховые выплаты'], axis=1)\n",
    "target_test = data_test['Страховые выплаты']\n",
    "print('Размер выборки \"features\":', features.shape)\n",
    "print()\n",
    "print('Размер выборки \"target\":', target.shape)\n",
    "print()\n",
    "print('Размер выборки \"features_test\":', features_test.shape)\n",
    "print()\n",
    "print('Размер выборки \"target_test\":', target_test.shape)"
   ]
  },
  {
   "cell_type": "markdown",
   "metadata": {},
   "source": [
    "***Функция для создания случайной матрицы и проверки её обратимости:***"
   ]
  },
  {
   "cell_type": "code",
   "execution_count": 12,
   "metadata": {},
   "outputs": [],
   "source": [
    "def get_rand_matrix():\n",
    "    det = 0\n",
    "    while det == 0:\n",
    "        matrix = np.random.normal(size=(features.shape[1], features.shape[1]))\n",
    "        det = np.linalg.det(matrix)\n",
    "    return matrix"
   ]
  },
  {
   "cell_type": "code",
   "execution_count": 13,
   "metadata": {
    "scrolled": true
   },
   "outputs": [
    {
     "name": "stdout",
     "output_type": "stream",
     "text": [
      "[[-1.00935292 -1.29245673 -1.21111279 -1.13783745]\n",
      " [-0.09135246  1.16806787 -0.8290803  -0.50065627]\n",
      " [ 0.85508099  0.30118328  0.45503143  0.31674277]\n",
      " [ 1.43316673 -0.7439136   0.1783834  -2.43825823]]\n"
     ]
    }
   ],
   "source": [
    "random_matrix = get_rand_matrix()\n",
    "print(random_matrix)"
   ]
  },
  {
   "cell_type": "markdown",
   "metadata": {},
   "source": [
    "***Изменение исходных данных:***"
   ]
  },
  {
   "cell_type": "code",
   "execution_count": 14,
   "metadata": {},
   "outputs": [
    {
     "name": "stdout",
     "output_type": "stream",
     "text": [
      "                 0             1             2             3\n",
      "3369  1.547509e+08  5.475569e+07  8.217868e+07  5.720868e+07\n",
      "1441  2.462416e+08  8.693346e+07  1.309035e+08  9.113488e+07\n",
      "571   1.757105e+08  6.207690e+07  9.337860e+07  6.500210e+07\n",
      "225   1.928103e+08  6.812393e+07  1.024627e+08  7.132694e+07\n",
      "2558  2.163336e+08  7.638523e+07  1.149893e+08  8.003269e+07\n"
     ]
    },
    {
     "data": {
      "text/plain": [
       "(3750, 4)"
      ]
     },
     "execution_count": 14,
     "metadata": {},
     "output_type": "execute_result"
    }
   ],
   "source": [
    "features_new = ((features * 1000 - 200) * 5) @ random_matrix\n",
    "print(features_new.head())\n",
    "features_new.shape"
   ]
  },
  {
   "cell_type": "markdown",
   "metadata": {},
   "source": [
    "***Получение матрицы преобразованных признаков:***"
   ]
  },
  {
   "cell_type": "code",
   "execution_count": 15,
   "metadata": {
    "scrolled": true
   },
   "outputs": [
    {
     "name": "stdout",
     "output_type": "stream",
     "text": [
      "[[-8.94138698e+06 -1.53858010e+08 -1.85218759e+08 -3.16955237e+08]\n",
      " [-1.39416904e+07 -2.45082920e+08 -2.94478984e+08 -5.04454288e+08]\n",
      " [-1.00196681e+07 -1.74820063e+08 -2.10186479e+08 -3.59924096e+08]\n",
      " ...\n",
      " [-1.09482095e+07 -1.90081260e+08 -2.28629864e+08 -3.91415981e+08]\n",
      " [-1.21585561e+07 -2.13250160e+08 -2.56121075e+08 -4.38712543e+08]\n",
      " [-9.83106597e+06 -1.73642231e+08 -2.08560409e+08 -3.57350977e+08]]\n"
     ]
    }
   ],
   "source": [
    "encoded_matrix = np.dot(features_new, random_matrix)\n",
    "print(encoded_matrix)"
   ]
  },
  {
   "cell_type": "markdown",
   "metadata": {},
   "source": [
    "**Ответ:** Предсказание останется прежним, качество линейной регрессии не изменится: исходная матрица умножается на случайную обратимую матрицу (высота случайной матрицы должна быть равно ширине исходной матрицы; ширина случайной матрицы должна быть равна ее высоте)."
   ]
  },
  {
   "cell_type": "markdown",
   "metadata": {},
   "source": [
    "## Проверка алгоритма:"
   ]
  },
  {
   "cell_type": "markdown",
   "metadata": {},
   "source": [
    "**Для проверки алгоритма используем модель Линейной регрессии:**"
   ]
  },
  {
   "cell_type": "markdown",
   "metadata": {},
   "source": [
    "*Функция для предсказания модели и вычисления r2_score:*"
   ]
  },
  {
   "cell_type": "code",
   "execution_count": 16,
   "metadata": {},
   "outputs": [],
   "source": [
    "def Predict_and_R2(features, target):\n",
    "    model = LinearRegression()\n",
    "    model.fit(features, target)\n",
    "    R2 = model.score(features, target)\n",
    "    return R2"
   ]
  },
  {
   "cell_type": "markdown",
   "metadata": {},
   "source": [
    "*Вычисление r2_score на исходной матрице:*"
   ]
  },
  {
   "cell_type": "code",
   "execution_count": 17,
   "metadata": {
    "scrolled": true
   },
   "outputs": [
    {
     "data": {
      "text/plain": [
       "0.42139202519255015"
      ]
     },
     "execution_count": 17,
     "metadata": {},
     "output_type": "execute_result"
    }
   ],
   "source": [
    "Predict_and_R2(features, target)"
   ]
  },
  {
   "cell_type": "markdown",
   "metadata": {},
   "source": [
    "*Вычисление r2_score на матрице с измененными исходными данными:*"
   ]
  },
  {
   "cell_type": "code",
   "execution_count": 18,
   "metadata": {
    "scrolled": true
   },
   "outputs": [
    {
     "name": "stdout",
     "output_type": "stream",
     "text": [
      "0.4213920251925577\n"
     ]
    }
   ],
   "source": [
    "print(Predict_and_R2(features_new, target))"
   ]
  },
  {
   "cell_type": "markdown",
   "metadata": {},
   "source": [
    "*Вычисление r2_score на матрице с преобразованными признаками:*"
   ]
  },
  {
   "cell_type": "code",
   "execution_count": 19,
   "metadata": {
    "scrolled": true
   },
   "outputs": [
    {
     "name": "stdout",
     "output_type": "stream",
     "text": [
      "0.4213920251925236\n"
     ]
    }
   ],
   "source": [
    "print(Predict_and_R2(encoded_matrix, target))"
   ]
  },
  {
   "cell_type": "markdown",
   "metadata": {},
   "source": [
    "**Качество линейной регрессии не меняется.**  "
   ]
  },
  {
   "cell_type": "markdown",
   "metadata": {},
   "source": [
    "## Вывод:"
   ]
  },
  {
   "cell_type": "markdown",
   "metadata": {},
   "source": [
    "Проведенным анализом установлено следующее:\n",
    "- В исследовании использовался датасет длинной 5000 строк, содержащий следующую информацию: пол, возраст, зарплата, кол-во членов семьи, страховые выплаты.\n",
    "- Предобработкой данных установлено, что:\n",
    "    - пропуски в данных отсутствуют;\n",
    "    - выявлены дубликаты данных (3% от общего количества данных), удаление нецелесообразно;\n",
    "    - данные распределены нормально, выбросы (аномалии) отсутствуют;\n",
    "    - клиенты распределены почти поровну между мужчинами и женщинами;\n",
    "    - средний возраст клиента - 30 лет;\n",
    "    - средняя зарплата клиента 40 тыс. руб.\n",
    "- Проведенными вычислениями установлено, что предсказания \"a1\" для матрицы признаков, умноженных на обратимую матрицу \"P\" равны предсказаниям \"a\", следовательно, качество линейной регрессии при умножении признаков на обратимую матрицу не изменится.\n",
    "- Создан и обоснован один из вариантов алгоритма защиты пользовательской информации, включающий следующие этапы:\n",
    "    - Создание матрицы Y - \"random_matrix\"\n",
    "    - Проверка матрицы Y - \"random_matrix\" на обратимость\n",
    "    - Изменение исходных данных следующим случайно выбранным образом (умножение матрицы на 1000 / вычитание из матрицы 200 / умножение матрицы на 5 / умножение на случайную обратимую матрицу)\n",
    "    - Получение матрицы преобразованных признаков: Z = X * Y, где: Z - \"encoded_matrix\", X - \"features\", Y - \"random_matrix\"\n",
    "    - Применение алгоритма на преобразованных признаках\n",
    "- Алгоритм проверен на модели Линейной регрессии - качество предсказаний модели не изменилось.\n"
   ]
  }
 ],
 "metadata": {
  "ExecuteTimeLog": [
   {
    "duration": 1151,
    "start_time": "2023-03-18T09:56:44.672Z"
   },
   {
    "duration": 78,
    "start_time": "2023-03-18T09:56:47.078Z"
   },
   {
    "duration": 115,
    "start_time": "2023-03-18T09:57:05.002Z"
   },
   {
    "duration": 27,
    "start_time": "2023-03-18T09:57:17.913Z"
   },
   {
    "duration": 23,
    "start_time": "2023-03-18T09:57:27.596Z"
   },
   {
    "duration": 7,
    "start_time": "2023-03-18T09:58:50.231Z"
   },
   {
    "duration": 10,
    "start_time": "2023-03-18T10:00:33.611Z"
   },
   {
    "duration": 10,
    "start_time": "2023-03-18T10:00:53.314Z"
   },
   {
    "duration": 11,
    "start_time": "2023-03-18T10:01:04.317Z"
   },
   {
    "duration": 13,
    "start_time": "2023-03-18T10:02:31.285Z"
   },
   {
    "duration": 18,
    "start_time": "2023-03-18T10:02:50.266Z"
   },
   {
    "duration": 9,
    "start_time": "2023-03-18T10:03:03.438Z"
   },
   {
    "duration": 14,
    "start_time": "2023-03-18T10:03:53.612Z"
   },
   {
    "duration": 11,
    "start_time": "2023-03-18T10:05:05.814Z"
   },
   {
    "duration": 15,
    "start_time": "2023-03-18T10:05:35.590Z"
   },
   {
    "duration": 11,
    "start_time": "2023-03-18T10:06:16.359Z"
   },
   {
    "duration": 11,
    "start_time": "2023-03-18T10:06:36.089Z"
   },
   {
    "duration": 53,
    "start_time": "2023-03-19T09:11:43.108Z"
   },
   {
    "duration": 1263,
    "start_time": "2023-03-19T09:11:46.161Z"
   },
   {
    "duration": 78,
    "start_time": "2023-03-19T09:11:47.426Z"
   },
   {
    "duration": 31,
    "start_time": "2023-03-19T09:11:47.506Z"
   },
   {
    "duration": 11,
    "start_time": "2023-03-19T09:11:47.539Z"
   },
   {
    "duration": 15,
    "start_time": "2023-03-19T09:13:09.717Z"
   },
   {
    "duration": 11,
    "start_time": "2023-03-19T09:13:19.565Z"
   },
   {
    "duration": 9,
    "start_time": "2023-03-19T09:50:02.793Z"
   },
   {
    "duration": 68,
    "start_time": "2023-03-19T09:51:31.279Z"
   },
   {
    "duration": 11,
    "start_time": "2023-03-19T09:51:38.875Z"
   },
   {
    "duration": 3,
    "start_time": "2023-03-19T09:51:51.091Z"
   },
   {
    "duration": 5,
    "start_time": "2023-03-19T09:52:30.959Z"
   },
   {
    "duration": 5,
    "start_time": "2023-03-19T09:55:11.636Z"
   },
   {
    "duration": 1252,
    "start_time": "2023-03-19T09:56:51.392Z"
   },
   {
    "duration": 5,
    "start_time": "2023-03-19T09:57:19.600Z"
   },
   {
    "duration": 14,
    "start_time": "2023-03-19T09:57:33.623Z"
   },
   {
    "duration": 24,
    "start_time": "2023-03-19T09:57:39.854Z"
   },
   {
    "duration": 13,
    "start_time": "2023-03-19T09:57:48.124Z"
   },
   {
    "duration": 85,
    "start_time": "2023-03-19T09:58:10.418Z"
   },
   {
    "duration": 41,
    "start_time": "2023-03-19T09:58:25.460Z"
   },
   {
    "duration": 39,
    "start_time": "2023-03-19T09:58:43.293Z"
   },
   {
    "duration": 1005,
    "start_time": "2023-03-19T09:59:19.477Z"
   },
   {
    "duration": 587,
    "start_time": "2023-03-19T09:59:30.885Z"
   },
   {
    "duration": 23,
    "start_time": "2023-03-19T10:00:48.932Z"
   },
   {
    "duration": 4,
    "start_time": "2023-03-19T10:01:09.243Z"
   },
   {
    "duration": 667,
    "start_time": "2023-03-19T10:01:14.585Z"
   },
   {
    "duration": 685,
    "start_time": "2023-03-19T10:01:42.682Z"
   },
   {
    "duration": 644,
    "start_time": "2023-03-19T10:02:57.175Z"
   },
   {
    "duration": 762,
    "start_time": "2023-03-19T10:03:09.043Z"
   },
   {
    "duration": 707,
    "start_time": "2023-03-19T10:03:33.572Z"
   },
   {
    "duration": 241,
    "start_time": "2023-03-19T10:04:33.388Z"
   },
   {
    "duration": 345,
    "start_time": "2023-03-19T10:04:41.204Z"
   },
   {
    "duration": 235,
    "start_time": "2023-03-19T10:04:50.774Z"
   },
   {
    "duration": 140,
    "start_time": "2023-03-19T10:06:14.230Z"
   },
   {
    "duration": 132,
    "start_time": "2023-03-19T10:06:19.507Z"
   },
   {
    "duration": 147,
    "start_time": "2023-03-19T10:06:29.185Z"
   },
   {
    "duration": 228,
    "start_time": "2023-03-19T10:06:52.771Z"
   },
   {
    "duration": 129,
    "start_time": "2023-03-19T10:06:57.525Z"
   },
   {
    "duration": 134,
    "start_time": "2023-03-19T10:07:00.396Z"
   },
   {
    "duration": 136,
    "start_time": "2023-03-19T10:07:02.346Z"
   },
   {
    "duration": 142,
    "start_time": "2023-03-19T10:07:19.695Z"
   },
   {
    "duration": 247,
    "start_time": "2023-03-19T10:07:21.727Z"
   },
   {
    "duration": 168,
    "start_time": "2023-03-19T10:08:58.300Z"
   },
   {
    "duration": 221,
    "start_time": "2023-03-19T10:09:21.091Z"
   },
   {
    "duration": 271,
    "start_time": "2023-03-19T10:09:37.563Z"
   },
   {
    "duration": 148,
    "start_time": "2023-03-19T10:09:56.341Z"
   },
   {
    "duration": 168,
    "start_time": "2023-03-19T10:09:59.435Z"
   },
   {
    "duration": 166,
    "start_time": "2023-03-19T10:10:16.431Z"
   },
   {
    "duration": 176,
    "start_time": "2023-03-19T10:10:23.618Z"
   },
   {
    "duration": 163,
    "start_time": "2023-03-19T10:11:41.508Z"
   },
   {
    "duration": 142,
    "start_time": "2023-03-19T10:12:02.397Z"
   },
   {
    "duration": 272,
    "start_time": "2023-03-19T10:12:08.206Z"
   },
   {
    "duration": 202,
    "start_time": "2023-03-19T10:23:20.902Z"
   },
   {
    "duration": 264,
    "start_time": "2023-03-19T10:23:50.243Z"
   },
   {
    "duration": 200,
    "start_time": "2023-03-19T10:23:55.520Z"
   },
   {
    "duration": 205,
    "start_time": "2023-03-19T10:23:59.698Z"
   },
   {
    "duration": 274,
    "start_time": "2023-03-19T10:24:12.735Z"
   },
   {
    "duration": 10,
    "start_time": "2023-03-19T11:18:01.239Z"
   },
   {
    "duration": 5,
    "start_time": "2023-03-19T11:18:08.308Z"
   },
   {
    "duration": 6,
    "start_time": "2023-03-19T11:18:20.015Z"
   },
   {
    "duration": 7,
    "start_time": "2023-03-19T11:18:27.282Z"
   },
   {
    "duration": 6,
    "start_time": "2023-03-19T11:18:41.905Z"
   },
   {
    "duration": 7,
    "start_time": "2023-03-19T11:19:06.236Z"
   },
   {
    "duration": 8,
    "start_time": "2023-03-19T11:19:12.477Z"
   },
   {
    "duration": 8,
    "start_time": "2023-03-19T11:22:30.682Z"
   },
   {
    "duration": 20,
    "start_time": "2023-03-19T11:22:36.716Z"
   },
   {
    "duration": 50,
    "start_time": "2023-03-19T11:26:58.915Z"
   },
   {
    "duration": 4,
    "start_time": "2023-03-19T11:30:50.322Z"
   },
   {
    "duration": 4,
    "start_time": "2023-03-19T11:31:30.639Z"
   },
   {
    "duration": 5,
    "start_time": "2023-03-19T11:32:27.930Z"
   },
   {
    "duration": 11,
    "start_time": "2023-03-19T11:32:45.596Z"
   },
   {
    "duration": 5,
    "start_time": "2023-03-19T11:32:51.896Z"
   },
   {
    "duration": 4,
    "start_time": "2023-03-19T11:35:10.482Z"
   },
   {
    "duration": 17,
    "start_time": "2023-03-19T11:35:27.001Z"
   },
   {
    "duration": 11,
    "start_time": "2023-03-19T11:43:16.933Z"
   },
   {
    "duration": 1431,
    "start_time": "2023-03-19T11:44:09.910Z"
   },
   {
    "duration": 31,
    "start_time": "2023-03-19T11:44:11.343Z"
   },
   {
    "duration": 50,
    "start_time": "2023-03-19T11:44:11.376Z"
   },
   {
    "duration": 10,
    "start_time": "2023-03-19T11:44:11.430Z"
   },
   {
    "duration": 33,
    "start_time": "2023-03-19T11:44:11.443Z"
   },
   {
    "duration": 178,
    "start_time": "2023-03-19T11:44:11.478Z"
   },
   {
    "duration": 266,
    "start_time": "2023-03-19T11:44:11.658Z"
   },
   {
    "duration": 178,
    "start_time": "2023-03-19T11:44:11.926Z"
   },
   {
    "duration": 167,
    "start_time": "2023-03-19T11:44:12.107Z"
   },
   {
    "duration": 152,
    "start_time": "2023-03-19T11:44:12.278Z"
   },
   {
    "duration": 7,
    "start_time": "2023-03-19T11:44:12.433Z"
   },
   {
    "duration": 23,
    "start_time": "2023-03-19T11:44:12.442Z"
   },
   {
    "duration": 6,
    "start_time": "2023-03-19T11:44:12.467Z"
   },
   {
    "duration": 13,
    "start_time": "2023-03-19T11:44:12.475Z"
   },
   {
    "duration": 85,
    "start_time": "2023-03-19T11:44:12.489Z"
   },
   {
    "duration": 190,
    "start_time": "2023-03-19T11:44:12.577Z"
   },
   {
    "duration": 96,
    "start_time": "2023-03-19T11:44:12.770Z"
   },
   {
    "duration": 11,
    "start_time": "2023-03-19T11:47:54.148Z"
   },
   {
    "duration": 9,
    "start_time": "2023-03-19T12:03:19.413Z"
   },
   {
    "duration": 1549,
    "start_time": "2023-03-19T13:12:06.624Z"
   },
   {
    "duration": 31,
    "start_time": "2023-03-19T13:12:08.176Z"
   },
   {
    "duration": 51,
    "start_time": "2023-03-19T13:12:08.209Z"
   },
   {
    "duration": 14,
    "start_time": "2023-03-19T13:12:08.264Z"
   },
   {
    "duration": 15,
    "start_time": "2023-03-19T13:12:08.280Z"
   },
   {
    "duration": 193,
    "start_time": "2023-03-19T13:12:08.297Z"
   },
   {
    "duration": 286,
    "start_time": "2023-03-19T13:12:08.492Z"
   },
   {
    "duration": 200,
    "start_time": "2023-03-19T13:12:08.780Z"
   },
   {
    "duration": 189,
    "start_time": "2023-03-19T13:12:08.982Z"
   },
   {
    "duration": 156,
    "start_time": "2023-03-19T13:12:09.174Z"
   },
   {
    "duration": 7,
    "start_time": "2023-03-19T13:12:09.332Z"
   },
   {
    "duration": 28,
    "start_time": "2023-03-19T13:12:09.341Z"
   },
   {
    "duration": 19,
    "start_time": "2023-03-19T13:12:09.373Z"
   },
   {
    "duration": 81,
    "start_time": "2023-03-19T13:12:09.395Z"
   },
   {
    "duration": 88,
    "start_time": "2023-03-19T13:12:09.478Z"
   },
   {
    "duration": 27,
    "start_time": "2023-03-19T13:12:09.570Z"
   },
   {
    "duration": 110,
    "start_time": "2023-03-19T13:12:09.665Z"
   },
   {
    "duration": 205,
    "start_time": "2023-03-19T13:12:09.778Z"
   },
   {
    "duration": 311,
    "start_time": "2023-03-19T13:12:09.986Z"
   },
   {
    "duration": 0,
    "start_time": "2023-03-19T13:12:10.298Z"
   },
   {
    "duration": 8,
    "start_time": "2023-03-19T13:12:52.280Z"
   },
   {
    "duration": 12,
    "start_time": "2023-03-19T13:13:46.833Z"
   },
   {
    "duration": 11,
    "start_time": "2023-03-19T13:13:48.688Z"
   },
   {
    "duration": 22,
    "start_time": "2023-03-19T13:24:39.480Z"
   },
   {
    "duration": 3,
    "start_time": "2023-03-19T13:26:07.143Z"
   },
   {
    "duration": 38,
    "start_time": "2023-03-19T13:26:07.149Z"
   },
   {
    "duration": 203,
    "start_time": "2023-03-19T13:26:07.189Z"
   },
   {
    "duration": 11,
    "start_time": "2023-03-19T13:26:07.394Z"
   },
   {
    "duration": 32,
    "start_time": "2023-03-19T13:26:07.406Z"
   },
   {
    "duration": 206,
    "start_time": "2023-03-19T13:26:07.440Z"
   },
   {
    "duration": 317,
    "start_time": "2023-03-19T13:26:07.648Z"
   },
   {
    "duration": 227,
    "start_time": "2023-03-19T13:26:07.968Z"
   },
   {
    "duration": 210,
    "start_time": "2023-03-19T13:26:08.198Z"
   },
   {
    "duration": 174,
    "start_time": "2023-03-19T13:26:08.409Z"
   },
   {
    "duration": 7,
    "start_time": "2023-03-19T13:26:08.585Z"
   },
   {
    "duration": 11,
    "start_time": "2023-03-19T13:26:08.594Z"
   },
   {
    "duration": 930,
    "start_time": "2023-03-19T13:26:08.607Z"
   },
   {
    "duration": 0,
    "start_time": "2023-03-19T13:26:09.539Z"
   },
   {
    "duration": 0,
    "start_time": "2023-03-19T13:26:09.541Z"
   },
   {
    "duration": 0,
    "start_time": "2023-03-19T13:26:09.542Z"
   },
   {
    "duration": 0,
    "start_time": "2023-03-19T13:26:09.544Z"
   },
   {
    "duration": 0,
    "start_time": "2023-03-19T13:26:09.545Z"
   },
   {
    "duration": 0,
    "start_time": "2023-03-19T13:26:09.546Z"
   },
   {
    "duration": 0,
    "start_time": "2023-03-19T13:26:09.547Z"
   },
   {
    "duration": 0,
    "start_time": "2023-03-19T13:26:09.549Z"
   },
   {
    "duration": 1001,
    "start_time": "2023-03-19T13:26:59.963Z"
   },
   {
    "duration": 1609,
    "start_time": "2023-03-19T13:27:10.779Z"
   },
   {
    "duration": 31,
    "start_time": "2023-03-19T13:27:12.390Z"
   },
   {
    "duration": 60,
    "start_time": "2023-03-19T13:27:12.423Z"
   },
   {
    "duration": 13,
    "start_time": "2023-03-19T13:27:12.485Z"
   },
   {
    "duration": 15,
    "start_time": "2023-03-19T13:27:12.501Z"
   },
   {
    "duration": 233,
    "start_time": "2023-03-19T13:27:12.518Z"
   },
   {
    "duration": 306,
    "start_time": "2023-03-19T13:27:12.752Z"
   },
   {
    "duration": 198,
    "start_time": "2023-03-19T13:27:13.060Z"
   },
   {
    "duration": 195,
    "start_time": "2023-03-19T13:27:13.266Z"
   },
   {
    "duration": 161,
    "start_time": "2023-03-19T13:27:13.465Z"
   },
   {
    "duration": 7,
    "start_time": "2023-03-19T13:27:13.629Z"
   },
   {
    "duration": 26,
    "start_time": "2023-03-19T13:27:13.639Z"
   },
   {
    "duration": 1116,
    "start_time": "2023-03-19T13:27:13.668Z"
   },
   {
    "duration": 0,
    "start_time": "2023-03-19T13:27:14.788Z"
   },
   {
    "duration": 0,
    "start_time": "2023-03-19T13:27:14.790Z"
   },
   {
    "duration": 0,
    "start_time": "2023-03-19T13:27:14.795Z"
   },
   {
    "duration": 0,
    "start_time": "2023-03-19T13:27:14.797Z"
   },
   {
    "duration": 0,
    "start_time": "2023-03-19T13:27:14.798Z"
   },
   {
    "duration": 0,
    "start_time": "2023-03-19T13:27:14.800Z"
   },
   {
    "duration": 0,
    "start_time": "2023-03-19T13:27:14.803Z"
   },
   {
    "duration": 0,
    "start_time": "2023-03-19T13:27:14.805Z"
   },
   {
    "duration": 5,
    "start_time": "2023-03-19T13:28:18.550Z"
   },
   {
    "duration": 6,
    "start_time": "2023-03-19T13:28:22.298Z"
   },
   {
    "duration": 8,
    "start_time": "2023-03-19T13:28:24.696Z"
   },
   {
    "duration": 3,
    "start_time": "2023-03-19T13:28:27.937Z"
   },
   {
    "duration": 11,
    "start_time": "2023-03-19T13:28:30.033Z"
   },
   {
    "duration": 12,
    "start_time": "2023-03-19T13:28:32.857Z"
   },
   {
    "duration": 19,
    "start_time": "2023-03-19T13:28:53.302Z"
   },
   {
    "duration": 16,
    "start_time": "2023-03-19T13:31:59.402Z"
   },
   {
    "duration": 15,
    "start_time": "2023-03-19T13:32:02.704Z"
   },
   {
    "duration": 13,
    "start_time": "2023-03-19T13:33:55.711Z"
   },
   {
    "duration": 5,
    "start_time": "2023-03-19T13:34:02.406Z"
   },
   {
    "duration": 5,
    "start_time": "2023-03-19T13:34:07.787Z"
   },
   {
    "duration": 11,
    "start_time": "2023-03-19T13:34:40.861Z"
   },
   {
    "duration": 12,
    "start_time": "2023-03-19T13:35:13.090Z"
   },
   {
    "duration": 10,
    "start_time": "2023-03-19T13:35:18.191Z"
   },
   {
    "duration": 13,
    "start_time": "2023-03-19T13:36:03.143Z"
   },
   {
    "duration": 1487,
    "start_time": "2023-03-19T13:44:40.358Z"
   },
   {
    "duration": 33,
    "start_time": "2023-03-19T13:44:41.848Z"
   },
   {
    "duration": 48,
    "start_time": "2023-03-19T13:44:41.883Z"
   },
   {
    "duration": 10,
    "start_time": "2023-03-19T13:44:41.934Z"
   },
   {
    "duration": 34,
    "start_time": "2023-03-19T13:44:41.947Z"
   },
   {
    "duration": 176,
    "start_time": "2023-03-19T13:44:41.984Z"
   },
   {
    "duration": 275,
    "start_time": "2023-03-19T13:44:42.176Z"
   },
   {
    "duration": 195,
    "start_time": "2023-03-19T13:44:42.453Z"
   },
   {
    "duration": 182,
    "start_time": "2023-03-19T13:44:42.651Z"
   },
   {
    "duration": 164,
    "start_time": "2023-03-19T13:44:42.836Z"
   },
   {
    "duration": 7,
    "start_time": "2023-03-19T13:44:43.002Z"
   },
   {
    "duration": 10,
    "start_time": "2023-03-19T13:44:43.011Z"
   },
   {
    "duration": 12,
    "start_time": "2023-03-19T13:44:43.023Z"
   },
   {
    "duration": 29,
    "start_time": "2023-03-19T13:44:43.037Z"
   },
   {
    "duration": 22,
    "start_time": "2023-03-19T13:44:43.067Z"
   },
   {
    "duration": 6,
    "start_time": "2023-03-19T13:44:43.164Z"
   },
   {
    "duration": 89,
    "start_time": "2023-03-19T13:44:43.174Z"
   },
   {
    "duration": 117,
    "start_time": "2023-03-19T13:44:43.277Z"
   },
   {
    "duration": 189,
    "start_time": "2023-03-19T13:44:43.397Z"
   },
   {
    "duration": 11,
    "start_time": "2023-03-19T13:44:43.588Z"
   },
   {
    "duration": 48,
    "start_time": "2023-03-20T09:14:23.403Z"
   },
   {
    "duration": 2670,
    "start_time": "2023-03-20T09:15:56.923Z"
   },
   {
    "duration": 84,
    "start_time": "2023-03-20T09:15:59.596Z"
   },
   {
    "duration": 53,
    "start_time": "2023-03-20T09:15:59.682Z"
   },
   {
    "duration": 11,
    "start_time": "2023-03-20T09:15:59.738Z"
   },
   {
    "duration": 40,
    "start_time": "2023-03-20T09:15:59.751Z"
   },
   {
    "duration": 159,
    "start_time": "2023-03-20T09:15:59.792Z"
   },
   {
    "duration": 271,
    "start_time": "2023-03-20T09:15:59.953Z"
   },
   {
    "duration": 185,
    "start_time": "2023-03-20T09:16:00.227Z"
   },
   {
    "duration": 194,
    "start_time": "2023-03-20T09:16:00.414Z"
   },
   {
    "duration": 155,
    "start_time": "2023-03-20T09:16:00.611Z"
   },
   {
    "duration": 16,
    "start_time": "2023-03-20T09:16:00.768Z"
   },
   {
    "duration": 37,
    "start_time": "2023-03-20T09:16:00.785Z"
   },
   {
    "duration": 67,
    "start_time": "2023-03-20T09:16:00.824Z"
   },
   {
    "duration": 66,
    "start_time": "2023-03-20T09:16:00.893Z"
   },
   {
    "duration": 125,
    "start_time": "2023-03-20T09:16:00.960Z"
   },
   {
    "duration": 55,
    "start_time": "2023-03-20T09:16:01.087Z"
   },
   {
    "duration": 81,
    "start_time": "2023-03-20T09:16:01.144Z"
   },
   {
    "duration": 355,
    "start_time": "2023-03-20T09:16:01.227Z"
   },
   {
    "duration": 160,
    "start_time": "2023-03-20T09:16:01.589Z"
   },
   {
    "duration": 90,
    "start_time": "2023-03-20T09:16:01.751Z"
   },
   {
    "duration": 1410,
    "start_time": "2023-03-20T10:01:17.197Z"
   },
   {
    "duration": 102,
    "start_time": "2023-03-20T10:01:18.609Z"
   },
   {
    "duration": 41,
    "start_time": "2023-03-20T10:01:18.713Z"
   },
   {
    "duration": 9,
    "start_time": "2023-03-20T10:01:18.755Z"
   },
   {
    "duration": 12,
    "start_time": "2023-03-20T10:01:18.765Z"
   },
   {
    "duration": 141,
    "start_time": "2023-03-20T10:01:18.779Z"
   },
   {
    "duration": 234,
    "start_time": "2023-03-20T10:01:18.924Z"
   },
   {
    "duration": 143,
    "start_time": "2023-03-20T10:01:19.160Z"
   },
   {
    "duration": 128,
    "start_time": "2023-03-20T10:01:19.304Z"
   },
   {
    "duration": 116,
    "start_time": "2023-03-20T10:01:19.434Z"
   },
   {
    "duration": 6,
    "start_time": "2023-03-20T10:01:19.552Z"
   },
   {
    "duration": 7,
    "start_time": "2023-03-20T10:01:19.559Z"
   },
   {
    "duration": 6,
    "start_time": "2023-03-20T10:01:19.567Z"
   },
   {
    "duration": 6,
    "start_time": "2023-03-20T10:01:19.575Z"
   },
   {
    "duration": 8,
    "start_time": "2023-03-20T10:01:19.625Z"
   },
   {
    "duration": 102,
    "start_time": "2023-03-20T10:01:19.636Z"
   },
   {
    "duration": 34,
    "start_time": "2023-03-20T10:01:19.740Z"
   },
   {
    "duration": 166,
    "start_time": "2023-03-20T10:01:19.776Z"
   },
   {
    "duration": 204,
    "start_time": "2023-03-20T10:01:19.943Z"
   },
   {
    "duration": 6,
    "start_time": "2023-03-20T10:01:20.149Z"
   },
   {
    "duration": 36,
    "start_time": "2023-03-20T10:01:30.367Z"
   },
   {
    "duration": 43,
    "start_time": "2023-03-20T10:01:39.518Z"
   },
   {
    "duration": 3,
    "start_time": "2023-03-20T10:29:13.592Z"
   },
   {
    "duration": 31,
    "start_time": "2023-03-20T10:29:13.596Z"
   },
   {
    "duration": 108,
    "start_time": "2023-03-20T10:29:13.628Z"
   },
   {
    "duration": 8,
    "start_time": "2023-03-20T10:29:13.738Z"
   },
   {
    "duration": 9,
    "start_time": "2023-03-20T10:29:13.748Z"
   },
   {
    "duration": 133,
    "start_time": "2023-03-20T10:29:13.759Z"
   },
   {
    "duration": 211,
    "start_time": "2023-03-20T10:29:13.893Z"
   },
   {
    "duration": 146,
    "start_time": "2023-03-20T10:29:14.105Z"
   },
   {
    "duration": 128,
    "start_time": "2023-03-20T10:29:14.252Z"
   },
   {
    "duration": 117,
    "start_time": "2023-03-20T10:29:14.382Z"
   },
   {
    "duration": 5,
    "start_time": "2023-03-20T10:29:14.500Z"
   },
   {
    "duration": 6,
    "start_time": "2023-03-20T10:29:14.506Z"
   },
   {
    "duration": 12,
    "start_time": "2023-03-20T10:29:14.513Z"
   },
   {
    "duration": 16,
    "start_time": "2023-03-20T10:29:14.528Z"
   },
   {
    "duration": 7,
    "start_time": "2023-03-20T10:29:14.546Z"
   },
   {
    "duration": 9,
    "start_time": "2023-03-20T10:29:14.554Z"
   },
   {
    "duration": 199,
    "start_time": "2023-03-20T10:29:14.625Z"
   },
   {
    "duration": 20,
    "start_time": "2023-03-20T10:29:14.826Z"
   },
   {
    "duration": 194,
    "start_time": "2023-03-20T10:29:14.850Z"
   },
   {
    "duration": 9,
    "start_time": "2023-03-20T10:29:15.045Z"
   },
   {
    "duration": 2,
    "start_time": "2023-03-20T10:31:35.209Z"
   },
   {
    "duration": 3,
    "start_time": "2023-03-20T10:31:57.667Z"
   },
   {
    "duration": 2,
    "start_time": "2023-03-20T10:31:58.956Z"
   },
   {
    "duration": 159,
    "start_time": "2023-03-20T10:32:57.513Z"
   },
   {
    "duration": 8,
    "start_time": "2023-03-20T10:33:05.259Z"
   },
   {
    "duration": 8,
    "start_time": "2023-03-20T10:38:29.752Z"
   },
   {
    "duration": 2,
    "start_time": "2023-03-20T10:38:37.391Z"
   },
   {
    "duration": 4,
    "start_time": "2023-03-20T10:38:46.614Z"
   },
   {
    "duration": 3,
    "start_time": "2023-03-20T10:39:20.768Z"
   },
   {
    "duration": 3,
    "start_time": "2023-03-20T10:39:36.153Z"
   },
   {
    "duration": 3,
    "start_time": "2023-03-20T10:39:43.591Z"
   },
   {
    "duration": 55,
    "start_time": "2023-03-20T10:39:45.376Z"
   },
   {
    "duration": 63,
    "start_time": "2023-03-20T10:39:47.490Z"
   },
   {
    "duration": 3,
    "start_time": "2023-03-20T10:40:04.904Z"
   },
   {
    "duration": 3,
    "start_time": "2023-03-20T10:40:08.238Z"
   },
   {
    "duration": 3,
    "start_time": "2023-03-20T10:40:12.075Z"
   },
   {
    "duration": 3,
    "start_time": "2023-03-20T10:40:14.882Z"
   },
   {
    "duration": 3,
    "start_time": "2023-03-20T10:40:33.315Z"
   },
   {
    "duration": 5495,
    "start_time": "2023-03-20T10:40:34.540Z"
   },
   {
    "duration": 3,
    "start_time": "2023-03-20T10:40:42.874Z"
   },
   {
    "duration": 4,
    "start_time": "2023-03-20T10:40:43.874Z"
   },
   {
    "duration": 4,
    "start_time": "2023-03-20T10:40:46.435Z"
   },
   {
    "duration": 8,
    "start_time": "2023-03-20T10:41:28.401Z"
   },
   {
    "duration": 3,
    "start_time": "2023-03-20T10:41:31.372Z"
   },
   {
    "duration": 3,
    "start_time": "2023-03-20T10:41:34.879Z"
   },
   {
    "duration": 4,
    "start_time": "2023-03-20T10:41:35.998Z"
   },
   {
    "duration": 3,
    "start_time": "2023-03-20T10:41:56.958Z"
   },
   {
    "duration": 4,
    "start_time": "2023-03-20T10:41:57.988Z"
   },
   {
    "duration": 3,
    "start_time": "2023-03-20T10:42:06.798Z"
   },
   {
    "duration": 3,
    "start_time": "2023-03-20T10:42:07.479Z"
   },
   {
    "duration": 4,
    "start_time": "2023-03-20T10:42:13.435Z"
   },
   {
    "duration": 4,
    "start_time": "2023-03-20T10:42:14.635Z"
   },
   {
    "duration": 5,
    "start_time": "2023-03-20T10:42:37.586Z"
   },
   {
    "duration": 16,
    "start_time": "2023-03-20T10:42:46.876Z"
   },
   {
    "duration": 8,
    "start_time": "2023-03-20T10:44:01.066Z"
   },
   {
    "duration": 3,
    "start_time": "2023-03-20T10:44:04.688Z"
   },
   {
    "duration": 3,
    "start_time": "2023-03-20T10:44:08.368Z"
   },
   {
    "duration": 3,
    "start_time": "2023-03-20T10:44:12.839Z"
   },
   {
    "duration": 4,
    "start_time": "2023-03-20T10:44:24.562Z"
   },
   {
    "duration": 3,
    "start_time": "2023-03-20T10:45:19.916Z"
   },
   {
    "duration": 4,
    "start_time": "2023-03-20T10:45:20.836Z"
   },
   {
    "duration": 8,
    "start_time": "2023-03-20T10:45:27.135Z"
   },
   {
    "duration": 3,
    "start_time": "2023-03-20T10:45:31.736Z"
   },
   {
    "duration": 3,
    "start_time": "2023-03-20T10:45:40.695Z"
   },
   {
    "duration": 13,
    "start_time": "2023-03-20T10:45:44.703Z"
   },
   {
    "duration": 1175,
    "start_time": "2023-03-20T10:46:19.415Z"
   },
   {
    "duration": 27,
    "start_time": "2023-03-20T10:46:20.592Z"
   },
   {
    "duration": 53,
    "start_time": "2023-03-20T10:46:20.620Z"
   },
   {
    "duration": 7,
    "start_time": "2023-03-20T10:46:20.674Z"
   },
   {
    "duration": 11,
    "start_time": "2023-03-20T10:46:20.683Z"
   },
   {
    "duration": 149,
    "start_time": "2023-03-20T10:46:20.695Z"
   },
   {
    "duration": 216,
    "start_time": "2023-03-20T10:46:20.846Z"
   },
   {
    "duration": 141,
    "start_time": "2023-03-20T10:46:21.064Z"
   },
   {
    "duration": 138,
    "start_time": "2023-03-20T10:46:21.207Z"
   },
   {
    "duration": 109,
    "start_time": "2023-03-20T10:46:21.347Z"
   },
   {
    "duration": 5,
    "start_time": "2023-03-20T10:46:21.458Z"
   },
   {
    "duration": 3,
    "start_time": "2023-03-20T10:46:21.465Z"
   },
   {
    "duration": 7,
    "start_time": "2023-03-20T10:46:21.469Z"
   },
   {
    "duration": 4,
    "start_time": "2023-03-20T10:46:21.477Z"
   },
   {
    "duration": 4,
    "start_time": "2023-03-20T10:46:21.483Z"
   },
   {
    "duration": 4,
    "start_time": "2023-03-20T10:46:21.488Z"
   },
   {
    "duration": 5,
    "start_time": "2023-03-20T10:46:21.493Z"
   },
   {
    "duration": 42,
    "start_time": "2023-03-20T10:46:21.499Z"
   },
   {
    "duration": 6,
    "start_time": "2023-03-20T10:46:21.542Z"
   },
   {
    "duration": 18,
    "start_time": "2023-03-20T10:46:21.624Z"
   },
   {
    "duration": 24,
    "start_time": "2023-03-20T10:46:21.723Z"
   },
   {
    "duration": 94,
    "start_time": "2023-03-20T10:58:31.234Z"
   },
   {
    "duration": 5,
    "start_time": "2023-03-20T11:07:08.563Z"
   },
   {
    "duration": 5,
    "start_time": "2023-03-20T11:08:38.290Z"
   },
   {
    "duration": 7,
    "start_time": "2023-03-20T11:09:22.916Z"
   },
   {
    "duration": 1209,
    "start_time": "2023-03-20T11:09:56.013Z"
   },
   {
    "duration": 27,
    "start_time": "2023-03-20T11:09:57.224Z"
   },
   {
    "duration": 44,
    "start_time": "2023-03-20T11:09:57.252Z"
   },
   {
    "duration": 7,
    "start_time": "2023-03-20T11:09:57.298Z"
   },
   {
    "duration": 24,
    "start_time": "2023-03-20T11:09:57.306Z"
   },
   {
    "duration": 133,
    "start_time": "2023-03-20T11:09:57.331Z"
   },
   {
    "duration": 211,
    "start_time": "2023-03-20T11:09:57.466Z"
   },
   {
    "duration": 141,
    "start_time": "2023-03-20T11:09:57.679Z"
   },
   {
    "duration": 139,
    "start_time": "2023-03-20T11:09:57.825Z"
   },
   {
    "duration": 110,
    "start_time": "2023-03-20T11:09:57.967Z"
   },
   {
    "duration": 8,
    "start_time": "2023-03-20T11:09:58.078Z"
   },
   {
    "duration": 5,
    "start_time": "2023-03-20T11:09:58.088Z"
   },
   {
    "duration": 6,
    "start_time": "2023-03-20T11:09:58.094Z"
   },
   {
    "duration": 6,
    "start_time": "2023-03-20T11:09:58.101Z"
   },
   {
    "duration": 17,
    "start_time": "2023-03-20T11:09:58.109Z"
   },
   {
    "duration": 97,
    "start_time": "2023-03-20T11:09:58.128Z"
   },
   {
    "duration": 104,
    "start_time": "2023-03-20T11:09:58.227Z"
   },
   {
    "duration": 265,
    "start_time": "2023-03-20T11:09:58.332Z"
   },
   {
    "duration": 27,
    "start_time": "2023-03-20T11:09:58.599Z"
   },
   {
    "duration": 1659,
    "start_time": "2023-03-20T13:18:41.249Z"
   },
   {
    "duration": 87,
    "start_time": "2023-03-20T13:18:42.911Z"
   },
   {
    "duration": 64,
    "start_time": "2023-03-20T13:18:43.000Z"
   },
   {
    "duration": 10,
    "start_time": "2023-03-20T13:18:43.065Z"
   },
   {
    "duration": 13,
    "start_time": "2023-03-20T13:18:43.077Z"
   },
   {
    "duration": 193,
    "start_time": "2023-03-20T13:18:43.092Z"
   },
   {
    "duration": 259,
    "start_time": "2023-03-20T13:18:43.287Z"
   },
   {
    "duration": 163,
    "start_time": "2023-03-20T13:18:43.548Z"
   },
   {
    "duration": 160,
    "start_time": "2023-03-20T13:18:43.714Z"
   },
   {
    "duration": 138,
    "start_time": "2023-03-20T13:18:43.876Z"
   },
   {
    "duration": 10,
    "start_time": "2023-03-20T13:18:44.015Z"
   },
   {
    "duration": 10,
    "start_time": "2023-03-20T13:18:44.043Z"
   },
   {
    "duration": 28,
    "start_time": "2023-03-20T13:18:44.055Z"
   },
   {
    "duration": 14,
    "start_time": "2023-03-20T13:18:44.086Z"
   },
   {
    "duration": 21,
    "start_time": "2023-03-20T13:18:44.102Z"
   },
   {
    "duration": 39,
    "start_time": "2023-03-20T13:18:44.124Z"
   },
   {
    "duration": 80,
    "start_time": "2023-03-20T13:18:44.165Z"
   },
   {
    "duration": 201,
    "start_time": "2023-03-20T13:18:44.247Z"
   },
   {
    "duration": 10,
    "start_time": "2023-03-20T13:18:44.450Z"
   },
   {
    "duration": 4,
    "start_time": "2023-03-20T13:45:29.607Z"
   },
   {
    "duration": 12,
    "start_time": "2023-03-20T13:46:44.006Z"
   },
   {
    "duration": 6,
    "start_time": "2023-03-20T13:46:51.198Z"
   },
   {
    "duration": 2,
    "start_time": "2023-03-20T13:48:20.794Z"
   },
   {
    "duration": 36,
    "start_time": "2023-03-20T13:48:31.928Z"
   },
   {
    "duration": 10,
    "start_time": "2023-03-20T13:48:49.558Z"
   },
   {
    "duration": 9,
    "start_time": "2023-03-20T13:49:24.496Z"
   },
   {
    "duration": 10,
    "start_time": "2023-03-20T13:50:47.344Z"
   },
   {
    "duration": 9,
    "start_time": "2023-03-20T13:50:50.159Z"
   },
   {
    "duration": 11,
    "start_time": "2023-03-20T13:51:00.672Z"
   },
   {
    "duration": 135,
    "start_time": "2023-03-20T13:53:18.907Z"
   },
   {
    "duration": 1455,
    "start_time": "2023-03-20T13:54:01.610Z"
   },
   {
    "duration": 30,
    "start_time": "2023-03-20T13:54:03.067Z"
   },
   {
    "duration": 65,
    "start_time": "2023-03-20T13:54:03.099Z"
   },
   {
    "duration": 10,
    "start_time": "2023-03-20T13:54:03.166Z"
   },
   {
    "duration": 26,
    "start_time": "2023-03-20T13:54:03.179Z"
   },
   {
    "duration": 165,
    "start_time": "2023-03-20T13:54:03.207Z"
   },
   {
    "duration": 267,
    "start_time": "2023-03-20T13:54:03.374Z"
   },
   {
    "duration": 190,
    "start_time": "2023-03-20T13:54:03.643Z"
   },
   {
    "duration": 163,
    "start_time": "2023-03-20T13:54:03.835Z"
   },
   {
    "duration": 151,
    "start_time": "2023-03-20T13:54:04.000Z"
   },
   {
    "duration": 10,
    "start_time": "2023-03-20T13:54:04.153Z"
   },
   {
    "duration": 15,
    "start_time": "2023-03-20T13:54:04.165Z"
   },
   {
    "duration": 8,
    "start_time": "2023-03-20T13:54:04.182Z"
   },
   {
    "duration": 19,
    "start_time": "2023-03-20T13:54:04.193Z"
   },
   {
    "duration": 22,
    "start_time": "2023-03-20T13:54:04.214Z"
   },
   {
    "duration": 26,
    "start_time": "2023-03-20T13:54:04.238Z"
   },
   {
    "duration": 15,
    "start_time": "2023-03-20T13:54:04.266Z"
   },
   {
    "duration": 161,
    "start_time": "2023-03-20T13:54:04.284Z"
   },
   {
    "duration": 205,
    "start_time": "2023-03-20T13:54:04.448Z"
   },
   {
    "duration": 1324,
    "start_time": "2023-03-20T14:06:39.759Z"
   },
   {
    "duration": 31,
    "start_time": "2023-03-20T14:06:41.084Z"
   },
   {
    "duration": 60,
    "start_time": "2023-03-20T14:06:41.116Z"
   },
   {
    "duration": 10,
    "start_time": "2023-03-20T14:06:41.178Z"
   },
   {
    "duration": 43,
    "start_time": "2023-03-20T14:06:41.190Z"
   },
   {
    "duration": 164,
    "start_time": "2023-03-20T14:06:41.235Z"
   },
   {
    "duration": 232,
    "start_time": "2023-03-20T14:06:41.400Z"
   },
   {
    "duration": 157,
    "start_time": "2023-03-20T14:06:41.634Z"
   },
   {
    "duration": 154,
    "start_time": "2023-03-20T14:06:41.793Z"
   },
   {
    "duration": 134,
    "start_time": "2023-03-20T14:06:41.949Z"
   },
   {
    "duration": 12,
    "start_time": "2023-03-20T14:06:42.085Z"
   },
   {
    "duration": 12,
    "start_time": "2023-03-20T14:06:42.099Z"
   },
   {
    "duration": 16,
    "start_time": "2023-03-20T14:06:42.115Z"
   },
   {
    "duration": 16,
    "start_time": "2023-03-20T14:06:42.132Z"
   },
   {
    "duration": 10,
    "start_time": "2023-03-20T14:06:42.150Z"
   },
   {
    "duration": 8,
    "start_time": "2023-03-20T14:06:42.162Z"
   },
   {
    "duration": 38,
    "start_time": "2023-03-20T14:06:42.172Z"
   },
   {
    "duration": 107,
    "start_time": "2023-03-20T14:06:42.232Z"
   },
   {
    "duration": 211,
    "start_time": "2023-03-20T14:06:42.341Z"
   }
  ],
  "kernelspec": {
   "display_name": "Python 3 (ipykernel)",
   "language": "python",
   "name": "python3"
  },
  "language_info": {
   "codemirror_mode": {
    "name": "ipython",
    "version": 3
   },
   "file_extension": ".py",
   "mimetype": "text/x-python",
   "name": "python",
   "nbconvert_exporter": "python",
   "pygments_lexer": "ipython3",
   "version": "3.9.13"
  },
  "toc": {
   "base_numbering": 1,
   "nav_menu": {},
   "number_sections": true,
   "sideBar": true,
   "skip_h1_title": true,
   "title_cell": "Содержание",
   "title_sidebar": "Contents",
   "toc_cell": true,
   "toc_position": {},
   "toc_section_display": true,
   "toc_window_display": false
  }
 },
 "nbformat": 4,
 "nbformat_minor": 2
}
